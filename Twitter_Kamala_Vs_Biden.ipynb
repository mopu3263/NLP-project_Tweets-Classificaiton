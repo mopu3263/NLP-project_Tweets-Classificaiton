{
  "nbformat": 4,
  "nbformat_minor": 0,
  "metadata": {
    "colab": {
      "name": "Twitter_Kamala Vs Biden.ipynb",
      "provenance": [],
      "collapsed_sections": [],
      "authorship_tag": "ABX9TyNsta9mLzbUADoAWDDTOPMr",
      "include_colab_link": true
    },
    "kernelspec": {
      "name": "python3",
      "display_name": "Python 3"
    }
  },
  "cells": [
    {
      "cell_type": "markdown",
      "metadata": {
        "id": "view-in-github",
        "colab_type": "text"
      },
      "source": [
        "<a href=\"https://colab.research.google.com/github/mopu3263/NLP-project_Tweets-Classificaiton/blob/main/Twitter_Kamala_Vs_Biden.ipynb\" target=\"_parent\"><img src=\"https://colab.research.google.com/assets/colab-badge.svg\" alt=\"Open In Colab\"/></a>"
      ]
    },
    {
      "cell_type": "markdown",
      "metadata": {
        "id": "_FetJoHGZ-eG"
      },
      "source": [
        "# **Twitter comments detection: we will use tweepy, NLP for text preprocessing       and use scikit learn model to detect the tweets of a specific user**\r\n",
        "\r\n",
        "\r\n",
        "---\r\n",
        "# **Goals**\r\n",
        "We will use Kamala and Biden Twitter accounts as example and will classify which tweet came from whom. The steps will be:\r\n",
        "\r\n",
        "\r\n",
        "1.   Creat a methode using Tweepy to pull a list of tweets from twitter API\r\n",
        "2.   Perform preprocessing with textacy library\r\n",
        "3.   Use scikit supervised classification technique to identify the user\r\n",
        "\r\n",
        "Some Twitter Rules\r\n",
        "**bold text**\r\n",
        "THERE ARE LIMITS TO THE AMOUNT OF TIMES YOU CAN HIT THE API PER 15 MINUTE WINDOW. BEWARE!\r\n",
        "\r\n",
        "Here's a quick overview of what Twitter says are \"the rules\":\r\n",
        "https://developer.twitter.com/en/docs/rate-limits"
      ]
    },
    {
      "cell_type": "markdown",
      "metadata": {
        "id": "6xXKgyb9fWVG"
      },
      "source": [
        "Tweepy installation & import tweepy, panda,nump etc"
      ]
    },
    {
      "cell_type": "code",
      "metadata": {
        "colab": {
          "base_uri": "https://localhost:8080/"
        },
        "id": "zg4Q6elZYJVX",
        "outputId": "1cf57189-6cec-4cbc-fd20-ac35745ed5e5"
      },
      "source": [
        "!pip install tweepy\r\n",
        "import tweepy\r\n",
        "import pandas as pd\r\n",
        "import numpy as np\r\n",
        "import re, datetime"
      ],
      "execution_count": 1,
      "outputs": [
        {
          "output_type": "stream",
          "text": [
            "Requirement already satisfied: tweepy in /usr/local/lib/python3.6/dist-packages (3.6.0)\n",
            "Requirement already satisfied: requests>=2.11.1 in /usr/local/lib/python3.6/dist-packages (from tweepy) (2.23.0)\n",
            "Requirement already satisfied: six>=1.10.0 in /usr/local/lib/python3.6/dist-packages (from tweepy) (1.15.0)\n",
            "Requirement already satisfied: PySocks>=1.5.7 in /usr/local/lib/python3.6/dist-packages (from tweepy) (1.7.1)\n",
            "Requirement already satisfied: requests-oauthlib>=0.7.0 in /usr/local/lib/python3.6/dist-packages (from tweepy) (1.3.0)\n",
            "Requirement already satisfied: chardet<4,>=3.0.2 in /usr/local/lib/python3.6/dist-packages (from requests>=2.11.1->tweepy) (3.0.4)\n",
            "Requirement already satisfied: urllib3!=1.25.0,!=1.25.1,<1.26,>=1.21.1 in /usr/local/lib/python3.6/dist-packages (from requests>=2.11.1->tweepy) (1.24.3)\n",
            "Requirement already satisfied: idna<3,>=2.5 in /usr/local/lib/python3.6/dist-packages (from requests>=2.11.1->tweepy) (2.10)\n",
            "Requirement already satisfied: certifi>=2017.4.17 in /usr/local/lib/python3.6/dist-packages (from requests>=2.11.1->tweepy) (2020.12.5)\n",
            "Requirement already satisfied: oauthlib>=3.0.0 in /usr/local/lib/python3.6/dist-packages (from requests-oauthlib>=0.7.0->tweepy) (3.1.0)\n"
          ],
          "name": "stdout"
        }
      ]
    },
    {
      "cell_type": "markdown",
      "metadata": {
        "id": "pZEjiI6cfgwq"
      },
      "source": [
        "Twitter is a great resource of text data for Natural Language Processing (NLP) project but required some works. The below website describes how to do step by step starting from application of developer account in Twitter\r\n",
        "\r\n",
        "https://towardsdatascience.com/tweepy-for-beginners-24baf21f2c25"
      ]
    },
    {
      "cell_type": "code",
      "metadata": {
        "id": "1QJwqavebnTs"
      },
      "source": [
        "class TweetMiner(object):\r\n",
        "\r\n",
        "    result_limit    =   20    \r\n",
        "    data            =   []\r\n",
        "    api             =   False\r\n",
        "    \r\n",
        "    twitter_keys = {\r\n",
        "        'consumer_key':       'L7vVkmHZyAN1aEQ6KovMF72kr',\r\n",
        "        'consumer_secret':     'Vq9W4dLPuuET08aR8D2ofcoZ4dhn1X8S37Ui1TqUlnrY7X6PLs',\r\n",
        "        'access_token_key':    '935888914325184512-qGIL3l6bgrWrl4wPiy06CnGEkbDWlPR',\r\n",
        "        'access_token_secret': '5hGsH2BI4W4BI53lHze54eUPEaAQu4J98hDJCtSELg8YZ'\r\n",
        "    }\r\n",
        "    \r\n",
        "    \r\n",
        "    def __init__(self, keys_dict=twitter_keys, api=api, result_limit = 20):\r\n",
        "        \r\n",
        "        self.twitter_keys = keys_dict\r\n",
        "        \r\n",
        "        auth = tweepy.OAuthHandler(keys_dict['consumer_key'], keys_dict['consumer_secret'])\r\n",
        "        auth.set_access_token(keys_dict['access_token_key'], keys_dict['access_token_secret'])\r\n",
        "        \r\n",
        "        self.api = tweepy.API(auth)\r\n",
        "\r\n",
        "        self.twitter_keys = keys_dict\r\n",
        "        \r\n",
        "        self.result_limit = result_limit\r\n",
        "        \r\n",
        "\r\n",
        "    def mine_user_tweets(self, user=\"HillaryClinton\", #BECAUSE WHO ELSE!\r\n",
        "                         mine_rewteets=False,\r\n",
        "                         max_pages=5):\r\n",
        "\r\n",
        "        data           =  []\r\n",
        "        last_tweet_id  =  False\r\n",
        "        page           =  1\r\n",
        "        \r\n",
        "        while page <= max_pages:\r\n",
        "            if last_tweet_id:\r\n",
        "                statuses   =   self.api.user_timeline(screen_name=user,\r\n",
        "                                                     count=self.result_limit,\r\n",
        "                                                     max_id=last_tweet_id - 1,\r\n",
        "                                                     tweet_mode = 'extended',\r\n",
        "                                                     include_retweets=True\r\n",
        "                                                    )        \r\n",
        "            else:\r\n",
        "                statuses   =   self.api.user_timeline(screen_name=user,\r\n",
        "                                                        count=self.result_limit,\r\n",
        "                                                        tweet_mode = 'extended',\r\n",
        "                                                        include_retweets=True)\r\n",
        "                \r\n",
        "            for item in statuses:\r\n",
        "                try:\r\n",
        "                    mined = {\r\n",
        "                        'tweet_id':        item.id,\r\n",
        "                        'handle':          item.user.name,\r\n",
        "                        'retweet_count':   item.retweet_count,\r\n",
        "                        'text':            item.full_text,\r\n",
        "                        'mined_at':        datetime.datetime.now(),\r\n",
        "                        'created_at':      item.created_at,\r\n",
        "                    }\r\n",
        "                    \r\n",
        "                except:\r\n",
        "                        mined = {\r\n",
        "                        'tweet_id':        item.id,\r\n",
        "                        'handle':          item.user.name,\r\n",
        "                        'retweet_count':   item.retweet_count,\r\n",
        "                        'text':            item.full_text,\r\n",
        "                        'mined_at':        datetime.datetime.now(),\r\n",
        "                        'created_at':      item.created_at,\r\n",
        "                    }\r\n",
        "                \r\n",
        "                last_tweet_id = item.id\r\n",
        "                data.append(mined)\r\n",
        "                \r\n",
        "            page += 1\r\n",
        "            \r\n",
        "        return data "
      ],
      "execution_count": 2,
      "outputs": []
    },
    {
      "cell_type": "markdown",
      "metadata": {
        "id": "AcLctDuQhu0R"
      },
      "source": [
        "# **Instantiate** **the** **class** "
      ]
    },
    {
      "cell_type": "code",
      "metadata": {
        "id": "hLopb0KMgbzG"
      },
      "source": [
        "# Result limit == count parameter 200\r\n",
        "miner=TweetMiner(result_limit = 200 )\r\n",
        "biden = miner.mine_user_tweets(user=\"JoeBiden\", max_pages=14)\r\n",
        "kamala = miner.mine_user_tweets(user=\"KamalaHarris\", max_pages=14)"
      ],
      "execution_count": 3,
      "outputs": []
    },
    {
      "cell_type": "code",
      "metadata": {
        "colab": {
          "base_uri": "https://localhost:8080/"
        },
        "id": "pNC6ZPwMilDn",
        "outputId": "a64d943f-0921-4478-f767-18d6446396ae"
      },
      "source": [
        "for x in range(5):\r\n",
        "    print (biden[x]['text'])\r\n",
        "    print('---')"
      ],
      "execution_count": 4,
      "outputs": [
        {
          "output_type": "stream",
          "text": [
            "RT @POTUS: This afternoon, I’m visiting the @StateDept and delivering remarks on America’s role in the world. Tune in. https://t.co/zWG3UET…\n",
            "---\n",
            "RT @POTUS: Extending the moratorium on evictions and foreclosures to help countless Americans keep a roof over their head — that’s the Amer…\n",
            "---\n",
            "RT @POTUS: Let me be clear: The risk in this moment isn’t that we do too much — it’s that we don’t do enough. Congress must pass the Americ…\n",
            "---\n",
            "RT @POTUS: Officer Brian Sicknick was a hero who died in the line of duty defending our democracy and the citadel of liberty itself. To his…\n",
            "---\n",
            "RT @POTUS: No one should lose their home in the middle of this pandemic. My American Rescue Plan will extend the moratorium on evictions an…\n",
            "---\n"
          ],
          "name": "stdout"
        }
      ]
    },
    {
      "cell_type": "code",
      "metadata": {
        "colab": {
          "base_uri": "https://localhost:8080/"
        },
        "id": "f6q1VBD1ivb7",
        "outputId": "7a82f6f1-0053-450a-f28b-4efde9bbcd11"
      },
      "source": [
        "for x in range(5):\r\n",
        "    print (kamala[x]['text'])\r\n",
        "    print('--')"
      ],
      "execution_count": 5,
      "outputs": [
        {
          "output_type": "stream",
          "text": [
            "RT @VP: We stand on the shoulders of those who came before. When Rosa Parks refused to give up her seat, she was lifting all of us up. Toda…\n",
            "--\n",
            "RT @POTUS: Extending the moratorium on evictions and foreclosures to help countless Americans keep a roof over their head — that’s the Amer…\n",
            "--\n",
            "RT @VP: This morning, I swore in Pete Buttigieg as Secretary of Transportation. @SecretaryPete is a true problem-solver. He will bring peop…\n",
            "--\n",
            "RT @VP: As Black History Month begins today, we remember and honor those who have come before, and we work to build a brighter future for a…\n",
            "--\n",
            "RT @VP: People are hurting right now. \n",
            "\n",
            "The American Rescue Plan gets economic relief to those who need it, and it gets people vaccinated.…\n",
            "--\n"
          ],
          "name": "stdout"
        }
      ]
    },
    {
      "cell_type": "markdown",
      "metadata": {
        "id": "9iCbmcMSj631"
      },
      "source": [
        "# **Converting tweet outputs to pandas DataFrame**"
      ]
    },
    {
      "cell_type": "code",
      "metadata": {
        "colab": {
          "base_uri": "https://localhost:8080/",
          "height": 221
        },
        "id": "k7fmLDVmkCgN",
        "outputId": "e1ea73d2-56bb-410d-ece1-91f070c3663b"
      },
      "source": [
        "biden_df= pd.DataFrame(biden)\r\n",
        "print(biden_df.shape)\r\n",
        "biden_df.head(5)"
      ],
      "execution_count": 45,
      "outputs": [
        {
          "output_type": "stream",
          "text": [
            "(2800, 6)\n"
          ],
          "name": "stdout"
        },
        {
          "output_type": "execute_result",
          "data": {
            "text/html": [
              "<div>\n",
              "<style scoped>\n",
              "    .dataframe tbody tr th:only-of-type {\n",
              "        vertical-align: middle;\n",
              "    }\n",
              "\n",
              "    .dataframe tbody tr th {\n",
              "        vertical-align: top;\n",
              "    }\n",
              "\n",
              "    .dataframe thead th {\n",
              "        text-align: right;\n",
              "    }\n",
              "</style>\n",
              "<table border=\"1\" class=\"dataframe\">\n",
              "  <thead>\n",
              "    <tr style=\"text-align: right;\">\n",
              "      <th></th>\n",
              "      <th>tweet_id</th>\n",
              "      <th>handle</th>\n",
              "      <th>retweet_count</th>\n",
              "      <th>text</th>\n",
              "      <th>mined_at</th>\n",
              "      <th>created_at</th>\n",
              "    </tr>\n",
              "  </thead>\n",
              "  <tbody>\n",
              "    <tr>\n",
              "      <th>0</th>\n",
              "      <td>1357414638510616579</td>\n",
              "      <td>Joe Biden</td>\n",
              "      <td>3874</td>\n",
              "      <td>RT @POTUS: This afternoon, I’m visiting the @S...</td>\n",
              "      <td>2021-02-05 17:24:32.651788</td>\n",
              "      <td>2021-02-04 19:44:04</td>\n",
              "    </tr>\n",
              "    <tr>\n",
              "      <th>1</th>\n",
              "      <td>1357376416380256258</td>\n",
              "      <td>Joe Biden</td>\n",
              "      <td>5825</td>\n",
              "      <td>RT @POTUS: Extending the moratorium on evictio...</td>\n",
              "      <td>2021-02-05 17:24:32.651802</td>\n",
              "      <td>2021-02-04 17:12:11</td>\n",
              "    </tr>\n",
              "    <tr>\n",
              "      <th>2</th>\n",
              "      <td>1357119042327359488</td>\n",
              "      <td>Joe Biden</td>\n",
              "      <td>20342</td>\n",
              "      <td>RT @POTUS: Let me be clear: The risk in this m...</td>\n",
              "      <td>2021-02-05 17:24:32.651804</td>\n",
              "      <td>2021-02-04 00:09:28</td>\n",
              "    </tr>\n",
              "    <tr>\n",
              "      <th>3</th>\n",
              "      <td>1357052766720557066</td>\n",
              "      <td>Joe Biden</td>\n",
              "      <td>12273</td>\n",
              "      <td>RT @POTUS: Officer Brian Sicknick was a hero w...</td>\n",
              "      <td>2021-02-05 17:24:32.651806</td>\n",
              "      <td>2021-02-03 19:46:07</td>\n",
              "    </tr>\n",
              "    <tr>\n",
              "      <th>4</th>\n",
              "      <td>1356962956647538688</td>\n",
              "      <td>Joe Biden</td>\n",
              "      <td>14317</td>\n",
              "      <td>RT @POTUS: No one should lose their home in th...</td>\n",
              "      <td>2021-02-05 17:24:32.651808</td>\n",
              "      <td>2021-02-03 13:49:14</td>\n",
              "    </tr>\n",
              "  </tbody>\n",
              "</table>\n",
              "</div>"
            ],
            "text/plain": [
              "              tweet_id  ...          created_at\n",
              "0  1357414638510616579  ... 2021-02-04 19:44:04\n",
              "1  1357376416380256258  ... 2021-02-04 17:12:11\n",
              "2  1357119042327359488  ... 2021-02-04 00:09:28\n",
              "3  1357052766720557066  ... 2021-02-03 19:46:07\n",
              "4  1356962956647538688  ... 2021-02-03 13:49:14\n",
              "\n",
              "[5 rows x 6 columns]"
            ]
          },
          "metadata": {
            "tags": []
          },
          "execution_count": 45
        }
      ]
    },
    {
      "cell_type": "code",
      "metadata": {
        "colab": {
          "base_uri": "https://localhost:8080/",
          "height": 221
        },
        "id": "XM9qwgqQk8e0",
        "outputId": "93ab2d75-0a77-4914-ada4-2fdb0dfac483"
      },
      "source": [
        "kamala_df= pd.DataFrame(kamala)\r\n",
        "print(kamala_df.shape)\r\n",
        "kamala_df.head(5)"
      ],
      "execution_count": 7,
      "outputs": [
        {
          "output_type": "stream",
          "text": [
            "(2799, 6)\n"
          ],
          "name": "stdout"
        },
        {
          "output_type": "execute_result",
          "data": {
            "text/html": [
              "<div>\n",
              "<style scoped>\n",
              "    .dataframe tbody tr th:only-of-type {\n",
              "        vertical-align: middle;\n",
              "    }\n",
              "\n",
              "    .dataframe tbody tr th {\n",
              "        vertical-align: top;\n",
              "    }\n",
              "\n",
              "    .dataframe thead th {\n",
              "        text-align: right;\n",
              "    }\n",
              "</style>\n",
              "<table border=\"1\" class=\"dataframe\">\n",
              "  <thead>\n",
              "    <tr style=\"text-align: right;\">\n",
              "      <th></th>\n",
              "      <th>tweet_id</th>\n",
              "      <th>handle</th>\n",
              "      <th>retweet_count</th>\n",
              "      <th>text</th>\n",
              "      <th>mined_at</th>\n",
              "      <th>created_at</th>\n",
              "    </tr>\n",
              "  </thead>\n",
              "  <tbody>\n",
              "    <tr>\n",
              "      <th>0</th>\n",
              "      <td>1357443261049298946</td>\n",
              "      <td>Kamala Harris</td>\n",
              "      <td>11576</td>\n",
              "      <td>RT @VP: We stand on the shoulders of those who...</td>\n",
              "      <td>2021-02-05 17:24:39.542012</td>\n",
              "      <td>2021-02-04 21:37:48</td>\n",
              "    </tr>\n",
              "    <tr>\n",
              "      <th>1</th>\n",
              "      <td>1357399467209728000</td>\n",
              "      <td>Kamala Harris</td>\n",
              "      <td>5825</td>\n",
              "      <td>RT @POTUS: Extending the moratorium on evictio...</td>\n",
              "      <td>2021-02-05 17:24:39.542027</td>\n",
              "      <td>2021-02-04 18:43:46</td>\n",
              "    </tr>\n",
              "    <tr>\n",
              "      <th>2</th>\n",
              "      <td>1356989141561581570</td>\n",
              "      <td>Kamala Harris</td>\n",
              "      <td>9125</td>\n",
              "      <td>RT @VP: This morning, I swore in Pete Buttigie...</td>\n",
              "      <td>2021-02-05 17:24:39.542029</td>\n",
              "      <td>2021-02-03 15:33:17</td>\n",
              "    </tr>\n",
              "    <tr>\n",
              "      <th>3</th>\n",
              "      <td>1356331078559158274</td>\n",
              "      <td>Kamala Harris</td>\n",
              "      <td>11743</td>\n",
              "      <td>RT @VP: As Black History Month begins today, w...</td>\n",
              "      <td>2021-02-05 17:24:39.542031</td>\n",
              "      <td>2021-02-01 19:58:23</td>\n",
              "    </tr>\n",
              "    <tr>\n",
              "      <th>4</th>\n",
              "      <td>1356007024581107719</td>\n",
              "      <td>Kamala Harris</td>\n",
              "      <td>10863</td>\n",
              "      <td>RT @VP: People are hurting right now. \\n\\nThe ...</td>\n",
              "      <td>2021-02-05 17:24:39.542033</td>\n",
              "      <td>2021-01-31 22:30:42</td>\n",
              "    </tr>\n",
              "  </tbody>\n",
              "</table>\n",
              "</div>"
            ],
            "text/plain": [
              "              tweet_id  ...          created_at\n",
              "0  1357443261049298946  ... 2021-02-04 21:37:48\n",
              "1  1357399467209728000  ... 2021-02-04 18:43:46\n",
              "2  1356989141561581570  ... 2021-02-03 15:33:17\n",
              "3  1356331078559158274  ... 2021-02-01 19:58:23\n",
              "4  1356007024581107719  ... 2021-01-31 22:30:42\n",
              "\n",
              "[5 rows x 6 columns]"
            ]
          },
          "metadata": {
            "tags": []
          },
          "execution_count": 7
        }
      ]
    },
    {
      "cell_type": "code",
      "metadata": {
        "colab": {
          "base_uri": "https://localhost:8080/"
        },
        "id": "XLmLItkkla00",
        "outputId": "ecf6b355-2fe7-44bd-c78e-9d36232bc3ba"
      },
      "source": [
        "\r\n",
        "tweets = pd.concat([biden_df, kamala_df], axis=0)\r\n",
        "tweets.shape"
      ],
      "execution_count": 8,
      "outputs": [
        {
          "output_type": "execute_result",
          "data": {
            "text/plain": [
              "(5599, 6)"
            ]
          },
          "metadata": {
            "tags": []
          },
          "execution_count": 8
        }
      ]
    },
    {
      "cell_type": "markdown",
      "metadata": {
        "id": "NCq83L8Dl5eE"
      },
      "source": [
        "# ***Pulling any interesting ngrams ***"
      ]
    },
    {
      "cell_type": "code",
      "metadata": {
        "id": "PZAePNk5mBR6"
      },
      "source": [
        "from sklearn.feature_extraction.text import TfidfVectorizer\r\n",
        "from collections import Counter"
      ],
      "execution_count": 9,
      "outputs": []
    },
    {
      "cell_type": "code",
      "metadata": {
        "id": "CxWqKHbenw00",
        "colab": {
          "base_uri": "https://localhost:8080/"
        },
        "outputId": "2179117d-a935-4636-8508-a4a23b54ccc7"
      },
      "source": [
        "vect = TfidfVectorizer(ngram_range=(2,5), stop_words='english')\r\n",
        "summaries = \"\".join(biden_df['text'])\r\n",
        "ngrams_summaries = vect.build_analyzer()(summaries)\r\n",
        "Counter(ngrams_summaries).most_common(20)"
      ],
      "execution_count": 10,
      "outputs": [
        {
          "output_type": "execute_result",
          "data": {
            "text/plain": [
              "[('donald trump', 344),\n",
              " ('covid 19', 184),\n",
              " ('president trump', 129),\n",
              " ('american people', 98),\n",
              " ('health care', 89),\n",
              " ('vote https', 73),\n",
              " ('white house', 73),\n",
              " ('head https', 68),\n",
              " ('make sure', 58),\n",
              " ('build better', 56),\n",
              " ('today https', 53),\n",
              " ('president ll', 50),\n",
              " ('climate change', 49),\n",
              " ('election day', 49),\n",
              " ('need president', 49),\n",
              " ('united states', 47),\n",
              " ('president https', 47),\n",
              " ('need help', 44),\n",
              " ('ve got', 44),\n",
              " ('soul nation', 39)]"
            ]
          },
          "metadata": {
            "tags": []
          },
          "execution_count": 10
        }
      ]
    },
    {
      "cell_type": "code",
      "metadata": {
        "colab": {
          "base_uri": "https://localhost:8080/"
        },
        "id": "HGn12ESUYhPB",
        "outputId": "d57b4769-fa57-4471-831b-ecd597adbb2c"
      },
      "source": [
        "vect = TfidfVectorizer(ngram_range=(2,5), stop_words='english')\r\n",
        "summaries = \"\".join(kamala_df['text'])\r\n",
        "ngrams_summaries = vect.build_analyzer()(summaries)\r\n",
        "Counter(ngrams_summaries).most_common(20)"
      ],
      "execution_count": 33,
      "outputs": [
        {
          "output_type": "execute_result",
          "data": {
            "text/plain": [
              "[('rt joebiden', 115),\n",
              " ('donald trump', 101),\n",
              " ('health care', 74),\n",
              " ('covid 19', 73),\n",
              " ('supreme court', 68),\n",
              " ('american people', 60),\n",
              " ('united states', 51),\n",
              " ('make sure', 50),\n",
              " ('trump administration', 48),\n",
              " ('care act', 46),\n",
              " ('white house', 45),\n",
              " ('wear mask', 40),\n",
              " ('affordable care', 40),\n",
              " ('affordable care act', 40),\n",
              " ('biden harris', 37),\n",
              " ('years ago', 37),\n",
              " ('elect joebiden', 35),\n",
              " ('breonna taylor', 35),\n",
              " ('black women', 34),\n",
              " ('election day', 34)]"
            ]
          },
          "metadata": {
            "tags": []
          },
          "execution_count": 33
        }
      ]
    },
    {
      "cell_type": "markdown",
      "metadata": {
        "id": "2wP1zIF6Z-7w"
      },
      "source": [
        "### **Tweets preprocessing and developing a model**\r\n",
        "To classify which tweets corresponding to whoe, the below steps are required:\r\n",
        "\r\n",
        "1.   Vectorizing the input text\r\n",
        "2.   Initializing the model\r\n",
        "3.   Hyperparameter tuning with Grid Searching\r\n",
        "4.   Model optimization\r\n",
        "5.   Model performance evaluation\r\n",
        "\r\n"
      ]
    },
    {
      "cell_type": "code",
      "metadata": {
        "colab": {
          "base_uri": "https://localhost:8080/"
        },
        "id": "vDW87m4Ca17c",
        "outputId": "468f2066-13a2-4f60-8fd4-943f26421eaa"
      },
      "source": [
        "tweet_text = tweets['text'].values.tolist()\r\n",
        "#creating target\r\n",
        "y = tweets['handle'].map(lambda x: 1 if x == 'Joe Biden' else 0).values\r\n",
        "print(y)\r\n"
      ],
      "execution_count": 46,
      "outputs": [
        {
          "output_type": "stream",
          "text": [
            "[1 1 1 ... 0 0 0]\n"
          ],
          "name": "stdout"
        }
      ]
    },
    {
      "cell_type": "code",
      "metadata": {
        "colab": {
          "base_uri": "https://localhost:8080/"
        },
        "id": "NRJjfNKlb7dW",
        "outputId": "8c4502f7-a068-478b-a3e0-0f951ea03fd1"
      },
      "source": [
        "#Vectorizing with TF-IDF Vectorizer and creating X matrix\r\n",
        "tfv = TfidfVectorizer(ngram_range=(2,4), max_features=2000)\r\n",
        "X = tfv.fit_transform(tweet_text).todense()\r\n",
        "print (X.shape)"
      ],
      "execution_count": 47,
      "outputs": [
        {
          "output_type": "stream",
          "text": [
            "(5599, 2000)\n"
          ],
          "name": "stdout"
        }
      ]
    },
    {
      "cell_type": "markdown",
      "metadata": {
        "id": "zKqUoNuBbpUT"
      },
      "source": [
        "# **We will use only SVC model for this project**"
      ]
    },
    {
      "cell_type": "code",
      "metadata": {
        "id": "mMS2Bc9hbkt1"
      },
      "source": [
        "from sklearn import svm\r\n",
        "from sklearn.svm import SVC\r\n",
        "from sklearn.model_selection import GridSearchCV\r\n"
      ],
      "execution_count": 48,
      "outputs": []
    },
    {
      "cell_type": "code",
      "metadata": {
        "colab": {
          "base_uri": "https://localhost:8080/"
        },
        "id": "WfOPm6k2cR2G",
        "outputId": "30654adf-b412-4eb8-c4bc-44211ee1dccc"
      },
      "source": [
        "params = {'kernel': ('linear', 'rbf'),'C': [1, 10]}\r\n",
        "svr = svm.SVC()\r\n",
        "#Grid searching to find optimal parameters for SVC Regression\r\n",
        "clf = GridSearchCV(svr, params)\r\n",
        "clf.fit(X, y)"
      ],
      "execution_count": 49,
      "outputs": [
        {
          "output_type": "execute_result",
          "data": {
            "text/plain": [
              "GridSearchCV(cv=None, error_score=nan,\n",
              "             estimator=SVC(C=1.0, break_ties=False, cache_size=200,\n",
              "                           class_weight=None, coef0=0.0,\n",
              "                           decision_function_shape='ovr', degree=3,\n",
              "                           gamma='scale', kernel='rbf', max_iter=-1,\n",
              "                           probability=False, random_state=None, shrinking=True,\n",
              "                           tol=0.001, verbose=False),\n",
              "             iid='deprecated', n_jobs=None,\n",
              "             param_grid={'C': [1, 10], 'kernel': ('linear', 'rbf')},\n",
              "             pre_dispatch='2*n_jobs', refit=True, return_train_score=False,\n",
              "             scoring=None, verbose=0)"
            ]
          },
          "metadata": {
            "tags": []
          },
          "execution_count": 49
        }
      ]
    },
    {
      "cell_type": "code",
      "metadata": {
        "colab": {
          "base_uri": "https://localhost:8080/"
        },
        "id": "g350h1d2ugxV",
        "outputId": "a9edc1b3-760e-44ed-806a-cd269e22fcc0"
      },
      "source": [
        "print (clf.best_params_)\r\n",
        "print (clf.best_score_)"
      ],
      "execution_count": 50,
      "outputs": [
        {
          "output_type": "stream",
          "text": [
            "{'C': 10, 'kernel': 'rbf'}\n",
            "0.7656715179369336\n"
          ],
          "name": "stdout"
        }
      ]
    },
    {
      "cell_type": "markdown",
      "metadata": {
        "id": "ci-3uFJz4zSx"
      },
      "source": [
        "# **The below code might take several mintues so have a good cup of coffee or snackes you like**"
      ]
    },
    {
      "cell_type": "code",
      "metadata": {
        "colab": {
          "base_uri": "https://localhost:8080/"
        },
        "id": "MVmnUjbTumoO",
        "outputId": "6d5b9eb6-2d54-4440-890b-2ed31621b88e"
      },
      "source": [
        "from sklearn.model_selection import cross_val_score\r\n",
        "accuracies = cross_val_score(svm.SVC(probability=True), X, y)\r\n",
        "\r\n",
        "print (accuracies.mean())\r\n",
        "print (1-y.mean())"
      ],
      "execution_count": 51,
      "outputs": [
        {
          "output_type": "stream",
          "text": [
            "0.7613883569513596\n",
            "0.49991069833898916\n"
          ],
          "name": "stdout"
        }
      ]
    },
    {
      "cell_type": "markdown",
      "metadata": {
        "id": "rhyH8pNj0wHC"
      },
      "source": [
        "# **Predicito of probability of Biden & Kamala Tweets**"
      ]
    },
    {
      "cell_type": "markdown",
      "metadata": {
        "id": "5ZQw8OSC1zKX"
      },
      "source": [
        "# **Do not re-initialize the tfidf vectorizer otherwise the features will be overwritten and the transform will not match the number of feature with your trained model. We only need to transform since we already fit it before. **"
      ]
    },
    {
      "cell_type": "code",
      "metadata": {
        "colab": {
          "base_uri": "https://localhost:8080/"
        },
        "id": "fpKwWLpu2vLs",
        "outputId": "8e59d2d7-3891-4270-879f-24b1c1ab36f7"
      },
      "source": [
        "estimator = svm.SVC(C=10, kernel='linear',probability=True)\r\n",
        "estimator.fit(X,y)"
      ],
      "execution_count": 54,
      "outputs": [
        {
          "output_type": "execute_result",
          "data": {
            "text/plain": [
              "SVC(C=10, break_ties=False, cache_size=200, class_weight=None, coef0=0.0,\n",
              "    decision_function_shape='ovr', degree=3, gamma='scale', kernel='linear',\n",
              "    max_iter=-1, probability=True, random_state=None, shrinking=True, tol=0.001,\n",
              "    verbose=False)"
            ]
          },
          "metadata": {
            "tags": []
          },
          "execution_count": 54
        }
      ]
    },
    {
      "cell_type": "code",
      "metadata": {
        "id": "xq32j2HQ1FM1"
      },
      "source": [
        "# Prepare the tweets as TfIdf vectors\r\n",
        "source_test = [\r\n",
        "   \"Extending the moratorium on evictions and foreclosures to help countless Americans keep a roof over their head — that’s the American Rescue Plan.\",\r\n",
        "    \"My abiding hope—my abiding prayer—is that we emerge from this ordeal with a new wisdom to cherish simple moments to imagine new possibilities and to open our hearts just a little more to one another.\"]\r\n",
        "\r\n",
        "# I copied the these two comments from Joe Biden and Kamala Harris twitter accounts correspondingly\r\n",
        "\r\n",
        "Xtest = tfv.transform(source_test).todense()"
      ],
      "execution_count": 59,
      "outputs": []
    },
    {
      "cell_type": "code",
      "metadata": {
        "colab": {
          "base_uri": "https://localhost:8080/",
          "height": 111
        },
        "id": "sqlszZHF2TZz",
        "outputId": "91c21301-1bce-4ea9-c2f7-90735eb31a84"
      },
      "source": [
        "pd.DataFrame(estimator.predict_proba(Xtest),columns=[\"Proba_Biden\", \"Proba_Kamala\"])"
      ],
      "execution_count": 60,
      "outputs": [
        {
          "output_type": "execute_result",
          "data": {
            "text/html": [
              "<div>\n",
              "<style scoped>\n",
              "    .dataframe tbody tr th:only-of-type {\n",
              "        vertical-align: middle;\n",
              "    }\n",
              "\n",
              "    .dataframe tbody tr th {\n",
              "        vertical-align: top;\n",
              "    }\n",
              "\n",
              "    .dataframe thead th {\n",
              "        text-align: right;\n",
              "    }\n",
              "</style>\n",
              "<table border=\"1\" class=\"dataframe\">\n",
              "  <thead>\n",
              "    <tr style=\"text-align: right;\">\n",
              "      <th></th>\n",
              "      <th>Proba_Biden</th>\n",
              "      <th>Proba_Kamala</th>\n",
              "    </tr>\n",
              "  </thead>\n",
              "  <tbody>\n",
              "    <tr>\n",
              "      <th>0</th>\n",
              "      <td>0.692913</td>\n",
              "      <td>0.307087</td>\n",
              "    </tr>\n",
              "    <tr>\n",
              "      <th>1</th>\n",
              "      <td>0.270381</td>\n",
              "      <td>0.729619</td>\n",
              "    </tr>\n",
              "  </tbody>\n",
              "</table>\n",
              "</div>"
            ],
            "text/plain": [
              "   Proba_Biden  Proba_Kamala\n",
              "0     0.692913      0.307087\n",
              "1     0.270381      0.729619"
            ]
          },
          "metadata": {
            "tags": []
          },
          "execution_count": 60
        }
      ]
    },
    {
      "cell_type": "markdown",
      "metadata": {
        "id": "9RS7EfIl5Afd"
      },
      "source": [
        "Based on the model the first tweet came from Biden is around 70% probable and the probability of 2nd comment coming from Kamala is 72%"
      ]
    },
    {
      "cell_type": "markdown",
      "metadata": {
        "id": "Aq5c_O2K7KfW"
      },
      "source": [
        "# **Now I am going to pull out the tweets both from Joe Biden and Kamala Harris with the highest and lowest probability of being Bien or Kamala based on the model we developed above**"
      ]
    },
    {
      "cell_type": "code",
      "metadata": {
        "id": "XD9hucPj7Xyz"
      },
      "source": [
        "proba=pd.DataFrame(estimator.predict_proba(X),columns=[\"Proba_Biden\", \"Proba_Kamala\"])"
      ],
      "execution_count": 62,
      "outputs": []
    },
    {
      "cell_type": "code",
      "metadata": {
        "colab": {
          "base_uri": "https://localhost:8080/",
          "height": 419
        },
        "id": "8D5U51eVDaU8",
        "outputId": "cfad0846-7878-4975-9a72-74bd7377c6da"
      },
      "source": [
        "joined_x = pd.merge(tweets, proba, left_index=True, right_index=True)\r\n",
        "joined_x"
      ],
      "execution_count": 70,
      "outputs": [
        {
          "output_type": "execute_result",
          "data": {
            "text/html": [
              "<div>\n",
              "<style scoped>\n",
              "    .dataframe tbody tr th:only-of-type {\n",
              "        vertical-align: middle;\n",
              "    }\n",
              "\n",
              "    .dataframe tbody tr th {\n",
              "        vertical-align: top;\n",
              "    }\n",
              "\n",
              "    .dataframe thead th {\n",
              "        text-align: right;\n",
              "    }\n",
              "</style>\n",
              "<table border=\"1\" class=\"dataframe\">\n",
              "  <thead>\n",
              "    <tr style=\"text-align: right;\">\n",
              "      <th></th>\n",
              "      <th>tweet_id</th>\n",
              "      <th>handle</th>\n",
              "      <th>retweet_count</th>\n",
              "      <th>text</th>\n",
              "      <th>mined_at</th>\n",
              "      <th>created_at</th>\n",
              "      <th>Proba_Biden</th>\n",
              "      <th>Proba_Kamala</th>\n",
              "    </tr>\n",
              "  </thead>\n",
              "  <tbody>\n",
              "    <tr>\n",
              "      <th>0</th>\n",
              "      <td>1357414638510616579</td>\n",
              "      <td>Joe Biden</td>\n",
              "      <td>3874</td>\n",
              "      <td>RT @POTUS: This afternoon, I’m visiting the @S...</td>\n",
              "      <td>2021-02-05 17:24:32.651788</td>\n",
              "      <td>2021-02-04 19:44:04</td>\n",
              "      <td>0.042185</td>\n",
              "      <td>0.957815</td>\n",
              "    </tr>\n",
              "    <tr>\n",
              "      <th>0</th>\n",
              "      <td>1357443261049298946</td>\n",
              "      <td>Kamala Harris</td>\n",
              "      <td>11576</td>\n",
              "      <td>RT @VP: We stand on the shoulders of those who...</td>\n",
              "      <td>2021-02-05 17:24:39.542012</td>\n",
              "      <td>2021-02-04 21:37:48</td>\n",
              "      <td>0.042185</td>\n",
              "      <td>0.957815</td>\n",
              "    </tr>\n",
              "    <tr>\n",
              "      <th>1</th>\n",
              "      <td>1357376416380256258</td>\n",
              "      <td>Joe Biden</td>\n",
              "      <td>5825</td>\n",
              "      <td>RT @POTUS: Extending the moratorium on evictio...</td>\n",
              "      <td>2021-02-05 17:24:32.651802</td>\n",
              "      <td>2021-02-04 17:12:11</td>\n",
              "      <td>0.185163</td>\n",
              "      <td>0.814837</td>\n",
              "    </tr>\n",
              "    <tr>\n",
              "      <th>1</th>\n",
              "      <td>1357399467209728000</td>\n",
              "      <td>Kamala Harris</td>\n",
              "      <td>5825</td>\n",
              "      <td>RT @POTUS: Extending the moratorium on evictio...</td>\n",
              "      <td>2021-02-05 17:24:39.542027</td>\n",
              "      <td>2021-02-04 18:43:46</td>\n",
              "      <td>0.185163</td>\n",
              "      <td>0.814837</td>\n",
              "    </tr>\n",
              "    <tr>\n",
              "      <th>2</th>\n",
              "      <td>1357119042327359488</td>\n",
              "      <td>Joe Biden</td>\n",
              "      <td>20342</td>\n",
              "      <td>RT @POTUS: Let me be clear: The risk in this m...</td>\n",
              "      <td>2021-02-05 17:24:32.651804</td>\n",
              "      <td>2021-02-04 00:09:28</td>\n",
              "      <td>0.095864</td>\n",
              "      <td>0.904136</td>\n",
              "    </tr>\n",
              "    <tr>\n",
              "      <th>...</th>\n",
              "      <td>...</td>\n",
              "      <td>...</td>\n",
              "      <td>...</td>\n",
              "      <td>...</td>\n",
              "      <td>...</td>\n",
              "      <td>...</td>\n",
              "      <td>...</td>\n",
              "      <td>...</td>\n",
              "    </tr>\n",
              "    <tr>\n",
              "      <th>2797</th>\n",
              "      <td>1247296778095005696</td>\n",
              "      <td>Joe Biden</td>\n",
              "      <td>8383</td>\n",
              "      <td>For months, I called on President Trump to ste...</td>\n",
              "      <td>2021-02-05 17:24:38.949881</td>\n",
              "      <td>2020-04-06 22:55:00</td>\n",
              "      <td>0.056593</td>\n",
              "      <td>0.943407</td>\n",
              "    </tr>\n",
              "    <tr>\n",
              "      <th>2797</th>\n",
              "      <td>1217820061441888261</td>\n",
              "      <td>Kamala Harris</td>\n",
              "      <td>7231</td>\n",
              "      <td>Last night’s Lev Parnas interview couldn’t hav...</td>\n",
              "      <td>2021-02-05 17:24:47.463318</td>\n",
              "      <td>2020-01-16 14:45:03</td>\n",
              "      <td>0.056593</td>\n",
              "      <td>0.943407</td>\n",
              "    </tr>\n",
              "    <tr>\n",
              "      <th>2798</th>\n",
              "      <td>1247283692231245824</td>\n",
              "      <td>Joe Biden</td>\n",
              "      <td>766</td>\n",
              "      <td>Judy, from itsJudysLife, asked an important qu...</td>\n",
              "      <td>2021-02-05 17:24:38.949883</td>\n",
              "      <td>2020-04-06 22:03:00</td>\n",
              "      <td>0.119238</td>\n",
              "      <td>0.880762</td>\n",
              "    </tr>\n",
              "    <tr>\n",
              "      <th>2798</th>\n",
              "      <td>1217634074392743936</td>\n",
              "      <td>Kamala Harris</td>\n",
              "      <td>662</td>\n",
              "      <td>Low-income communities and communities of colo...</td>\n",
              "      <td>2021-02-05 17:24:47.463320</td>\n",
              "      <td>2020-01-16 02:26:00</td>\n",
              "      <td>0.119238</td>\n",
              "      <td>0.880762</td>\n",
              "    </tr>\n",
              "    <tr>\n",
              "      <th>2799</th>\n",
              "      <td>1247232309549555715</td>\n",
              "      <td>Joe Biden</td>\n",
              "      <td>10795</td>\n",
              "      <td>We need a president who actually listens to th...</td>\n",
              "      <td>2021-02-05 17:24:38.949885</td>\n",
              "      <td>2020-04-06 18:38:49</td>\n",
              "      <td>0.247102</td>\n",
              "      <td>0.752898</td>\n",
              "    </tr>\n",
              "  </tbody>\n",
              "</table>\n",
              "<p>5599 rows × 8 columns</p>\n",
              "</div>"
            ],
            "text/plain": [
              "                 tweet_id         handle  ...  Proba_Biden Proba_Kamala\n",
              "0     1357414638510616579      Joe Biden  ...     0.042185     0.957815\n",
              "0     1357443261049298946  Kamala Harris  ...     0.042185     0.957815\n",
              "1     1357376416380256258      Joe Biden  ...     0.185163     0.814837\n",
              "1     1357399467209728000  Kamala Harris  ...     0.185163     0.814837\n",
              "2     1357119042327359488      Joe Biden  ...     0.095864     0.904136\n",
              "...                   ...            ...  ...          ...          ...\n",
              "2797  1247296778095005696      Joe Biden  ...     0.056593     0.943407\n",
              "2797  1217820061441888261  Kamala Harris  ...     0.056593     0.943407\n",
              "2798  1247283692231245824      Joe Biden  ...     0.119238     0.880762\n",
              "2798  1217634074392743936  Kamala Harris  ...     0.119238     0.880762\n",
              "2799  1247232309549555715      Joe Biden  ...     0.247102     0.752898\n",
              "\n",
              "[5599 rows x 8 columns]"
            ]
          },
          "metadata": {
            "tags": []
          },
          "execution_count": 70
        }
      ]
    }
  ]
}