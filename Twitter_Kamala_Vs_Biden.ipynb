{
  "nbformat": 4,
  "nbformat_minor": 0,
  "metadata": {
    "colab": {
      "name": "Twitter_Kamala Vs Biden.ipynb",
      "provenance": [],
      "collapsed_sections": [],
      "authorship_tag": "ABX9TyNei/DQEbKCzrg1MhAxusuR",
      "include_colab_link": true
    },
    "kernelspec": {
      "name": "python3",
      "display_name": "Python 3"
    }
  },
  "cells": [
    {
      "cell_type": "markdown",
      "metadata": {
        "id": "view-in-github",
        "colab_type": "text"
      },
      "source": [
        "<a href=\"https://colab.research.google.com/github/mopu3263/NLP-project_Tweets-Classificaiton/blob/main/Twitter_Kamala_Vs_Biden.ipynb\" target=\"_parent\"><img src=\"https://colab.research.google.com/assets/colab-badge.svg\" alt=\"Open In Colab\"/></a>"
      ]
    },
    {
      "cell_type": "markdown",
      "metadata": {
        "id": "_FetJoHGZ-eG"
      },
      "source": [
        "# **Twitter comments detection: we will use tweepy, NLP for text preprocessing       and use scikit learn model to detect the tweets of a specific user**\r\n",
        "\r\n",
        "\r\n",
        "---\r\n",
        "# **Goals**\r\n",
        "We will use Kamala and Biden Twitter accounts as example and will classify which tweet came from whom. The steps will be:\r\n",
        "\r\n",
        "\r\n",
        "1.   Creat a methode using Tweepy to pull a list of tweets from twitter API\r\n",
        "2.   Perform preprocessing with textacy library\r\n",
        "3.   Use scikit supervised classification technique to identify the user\r\n",
        "\r\n",
        "Some Twitter Rules\r\n",
        "THERE ARE LIMITS TO THE AMOUNT OF TIMES YOU CAN HIT THE API PER 15 MINUTE WINDOW. BEWARE!\r\n",
        "\r\n",
        "Here's a quick overview of what Twitter says are \"the rules\":\r\n",
        "https://developer.twitter.com/en/docs/rate-limits"
      ]
    },
    {
      "cell_type": "markdown",
      "metadata": {
        "id": "6xXKgyb9fWVG"
      },
      "source": [
        "Tweepy installation & import tweepy, panda,nump etc"
      ]
    },
    {
      "cell_type": "code",
      "metadata": {
        "colab": {
          "base_uri": "https://localhost:8080/"
        },
        "id": "zg4Q6elZYJVX",
        "outputId": "1101422c-65fe-4e8d-a35c-8a1453609e1b"
      },
      "source": [
        "!pip install tweepy\r\n",
        "import tweepy\r\n",
        "import pandas as pd\r\n",
        "import numpy as np\r\n",
        "import re, datetime"
      ],
      "execution_count": 2,
      "outputs": [
        {
          "output_type": "stream",
          "text": [
            "Requirement already satisfied: tweepy in /usr/local/lib/python3.6/dist-packages (3.6.0)\n",
            "Requirement already satisfied: PySocks>=1.5.7 in /usr/local/lib/python3.6/dist-packages (from tweepy) (1.7.1)\n",
            "Requirement already satisfied: requests>=2.11.1 in /usr/local/lib/python3.6/dist-packages (from tweepy) (2.23.0)\n",
            "Requirement already satisfied: requests-oauthlib>=0.7.0 in /usr/local/lib/python3.6/dist-packages (from tweepy) (1.3.0)\n",
            "Requirement already satisfied: six>=1.10.0 in /usr/local/lib/python3.6/dist-packages (from tweepy) (1.15.0)\n",
            "Requirement already satisfied: chardet<4,>=3.0.2 in /usr/local/lib/python3.6/dist-packages (from requests>=2.11.1->tweepy) (3.0.4)\n",
            "Requirement already satisfied: idna<3,>=2.5 in /usr/local/lib/python3.6/dist-packages (from requests>=2.11.1->tweepy) (2.10)\n",
            "Requirement already satisfied: certifi>=2017.4.17 in /usr/local/lib/python3.6/dist-packages (from requests>=2.11.1->tweepy) (2020.12.5)\n",
            "Requirement already satisfied: urllib3!=1.25.0,!=1.25.1,<1.26,>=1.21.1 in /usr/local/lib/python3.6/dist-packages (from requests>=2.11.1->tweepy) (1.24.3)\n",
            "Requirement already satisfied: oauthlib>=3.0.0 in /usr/local/lib/python3.6/dist-packages (from requests-oauthlib>=0.7.0->tweepy) (3.1.0)\n"
          ],
          "name": "stdout"
        }
      ]
    },
    {
      "cell_type": "markdown",
      "metadata": {
        "id": "pZEjiI6cfgwq"
      },
      "source": [
        "Twitter is a great resource of text data for Natural Language Processing (NLP) project but required some works. The below website describes how to do step by step starting from application of developer account in Twitter\r\n",
        "\r\n",
        "https://towardsdatascience.com/tweepy-for-beginners-24baf21f2c25"
      ]
    },
    {
      "cell_type": "code",
      "metadata": {
        "id": "1QJwqavebnTs"
      },
      "source": [
        "class TweetMiner(object):\r\n",
        "\r\n",
        "    result_limit    =   20    \r\n",
        "    data            =   []\r\n",
        "    api             =   False\r\n",
        "    \r\n",
        "    twitter_keys = {\r\n",
        "        'consumer_key':       'L7vVkmHZyAN1aEQ6KovMF72kr',\r\n",
        "        'consumer_secret':     'Vq9W4dLPuuET08aR8D2ofcoZ4dhn1X8S37Ui1TqUlnrY7X6PLs',\r\n",
        "        'access_token_key':    '935888914325184512-qGIL3l6bgrWrl4wPiy06CnGEkbDWlPR',\r\n",
        "        'access_token_secret': '5hGsH2BI4W4BI53lHze54eUPEaAQu4J98hDJCtSELg8YZ'\r\n",
        "    }\r\n",
        "    \r\n",
        "    \r\n",
        "    def __init__(self, keys_dict=twitter_keys, api=api, result_limit = 20):\r\n",
        "        \r\n",
        "        self.twitter_keys = keys_dict\r\n",
        "        \r\n",
        "        auth = tweepy.OAuthHandler(keys_dict['consumer_key'], keys_dict['consumer_secret'])\r\n",
        "        auth.set_access_token(keys_dict['access_token_key'], keys_dict['access_token_secret'])\r\n",
        "        \r\n",
        "        self.api = tweepy.API(auth)\r\n",
        "\r\n",
        "        self.twitter_keys = keys_dict\r\n",
        "        \r\n",
        "        self.result_limit = result_limit\r\n",
        "        \r\n",
        "\r\n",
        "    def mine_user_tweets(self, user=\"HillaryClinton\", #BECAUSE WHO ELSE!\r\n",
        "                         mine_rewteets=False,\r\n",
        "                         max_pages=5):\r\n",
        "\r\n",
        "        data           =  []\r\n",
        "        last_tweet_id  =  False\r\n",
        "        page           =  1\r\n",
        "        \r\n",
        "        while page <= max_pages:\r\n",
        "            if last_tweet_id:\r\n",
        "                statuses   =   self.api.user_timeline(screen_name=user,\r\n",
        "                                                     count=self.result_limit,\r\n",
        "                                                     max_id=last_tweet_id - 1,\r\n",
        "                                                     tweet_mode = 'extended',\r\n",
        "                                                     include_retweets=True\r\n",
        "                                                    )        \r\n",
        "            else:\r\n",
        "                statuses   =   self.api.user_timeline(screen_name=user,\r\n",
        "                                                        count=self.result_limit,\r\n",
        "                                                        tweet_mode = 'extended',\r\n",
        "                                                        include_retweets=True)\r\n",
        "                \r\n",
        "            for item in statuses:\r\n",
        "                try:\r\n",
        "                    mined = {\r\n",
        "                        'tweet_id':        item.id,\r\n",
        "                        'handle':          item.user.name,\r\n",
        "                        'retweet_count':   item.retweet_count,\r\n",
        "                        'text':            item.full_text,\r\n",
        "                        'mined_at':        datetime.datetime.now(),\r\n",
        "                        'created_at':      item.created_at,\r\n",
        "                    }\r\n",
        "                    \r\n",
        "                except:\r\n",
        "                        mined = {\r\n",
        "                        'tweet_id':        item.id,\r\n",
        "                        'handle':          item.user.name,\r\n",
        "                        'retweet_count':   item.retweet_count,\r\n",
        "                        'text':            item.full_text,\r\n",
        "                        'mined_at':        datetime.datetime.now(),\r\n",
        "                        'created_at':      item.created_at,\r\n",
        "                    }\r\n",
        "                \r\n",
        "                last_tweet_id = item.id\r\n",
        "                data.append(mined)\r\n",
        "                \r\n",
        "            page += 1\r\n",
        "            \r\n",
        "        return data "
      ],
      "execution_count": 3,
      "outputs": []
    },
    {
      "cell_type": "markdown",
      "metadata": {
        "id": "AcLctDuQhu0R"
      },
      "source": [
        "# **Instantiate** **the** **class** "
      ]
    },
    {
      "cell_type": "code",
      "metadata": {
        "id": "hLopb0KMgbzG"
      },
      "source": [
        "# Result limit == count parameter 200\r\n",
        "miner=TweetMiner(result_limit = 200 )\r\n",
        "biden = miner.mine_user_tweets(user=\"JoeBiden\", max_pages=14)\r\n",
        "kamala = miner.mine_user_tweets(user=\"KamalaHarris\", max_pages=14)"
      ],
      "execution_count": 4,
      "outputs": []
    },
    {
      "cell_type": "code",
      "metadata": {
        "colab": {
          "base_uri": "https://localhost:8080/"
        },
        "id": "pNC6ZPwMilDn",
        "outputId": "ebadeba8-ccb7-445e-e98c-bad83bf0473c"
      },
      "source": [
        "for x in range(5):\r\n",
        "    print (biden[x]['text'])\r\n",
        "    print('---')"
      ],
      "execution_count": 5,
      "outputs": [
        {
          "output_type": "stream",
          "text": [
            "RT @POTUS: Making vaccines free and accessible for every American — that’s the American Rescue Plan. https://t.co/5GpH0VYWIE\n",
            "---\n",
            "RT @POTUS: We don’t have a second to waste when it comes to delivering the American people the relief they desperately need. I’m calling on…\n",
            "---\n",
            "RT @POTUS: For your family, for your neighbors, for your country — wear a mask.\n",
            "---\n",
            "RT @POTUS: Everyone who wants a vaccine should be able to get one free of charge. The American Rescue Plan will make that a reality.\n",
            "---\n",
            "RT @POTUS: Last year, Michele lost her job because of the pandemic. I recently gave her a call to hear her story and discuss how my America…\n",
            "---\n"
          ],
          "name": "stdout"
        }
      ]
    },
    {
      "cell_type": "code",
      "metadata": {
        "colab": {
          "base_uri": "https://localhost:8080/"
        },
        "id": "f6q1VBD1ivb7",
        "outputId": "0ddc7598-0bd0-4ded-b0c4-403bb3354cc8"
      },
      "source": [
        "for x in range(5):\r\n",
        "    print (kamala[x]['text'])\r\n",
        "    print('--')"
      ],
      "execution_count": 6,
      "outputs": [
        {
          "output_type": "stream",
          "text": [
            "RT @VP: Today @POTUS and I did a virtual tour of the State Farm Stadium in Arizona, where thousands are getting vaccinated every day. Thank…\n",
            "--\n",
            "RT @POTUS: Making vaccines free and accessible for every American — that’s the American Rescue Plan. https://t.co/5GpH0VYWIE\n",
            "--\n",
            "RT @VP: The American Rescue Plan will get the pandemic under control and support struggling communities across our country. People need hel…\n",
            "--\n",
            "RT @POTUS: For your family, for your neighbors, for your country — wear a mask.\n",
            "--\n",
            "RT @VP: It’s been a busy few weeks. Ready for the next one. https://t.co/bMouYVjRr0\n",
            "--\n"
          ],
          "name": "stdout"
        }
      ]
    },
    {
      "cell_type": "markdown",
      "metadata": {
        "id": "9iCbmcMSj631"
      },
      "source": [
        "# **Converting tweet outputs to pandas DataFrame**"
      ]
    },
    {
      "cell_type": "code",
      "metadata": {
        "colab": {
          "base_uri": "https://localhost:8080/",
          "height": 212
        },
        "id": "k7fmLDVmkCgN",
        "outputId": "02a7d87e-7cca-4e14-9590-9203f4f98b58"
      },
      "source": [
        "biden_df= pd.DataFrame(biden)\r\n",
        "print(biden_df.shape)\r\n",
        "biden_df.head(5)"
      ],
      "execution_count": 7,
      "outputs": [
        {
          "output_type": "stream",
          "text": [
            "(2800, 6)\n"
          ],
          "name": "stdout"
        },
        {
          "output_type": "execute_result",
          "data": {
            "text/html": [
              "<div>\n",
              "<style scoped>\n",
              "    .dataframe tbody tr th:only-of-type {\n",
              "        vertical-align: middle;\n",
              "    }\n",
              "\n",
              "    .dataframe tbody tr th {\n",
              "        vertical-align: top;\n",
              "    }\n",
              "\n",
              "    .dataframe thead th {\n",
              "        text-align: right;\n",
              "    }\n",
              "</style>\n",
              "<table border=\"1\" class=\"dataframe\">\n",
              "  <thead>\n",
              "    <tr style=\"text-align: right;\">\n",
              "      <th></th>\n",
              "      <th>tweet_id</th>\n",
              "      <th>handle</th>\n",
              "      <th>retweet_count</th>\n",
              "      <th>text</th>\n",
              "      <th>mined_at</th>\n",
              "      <th>created_at</th>\n",
              "    </tr>\n",
              "  </thead>\n",
              "  <tbody>\n",
              "    <tr>\n",
              "      <th>0</th>\n",
              "      <td>1358851337522470914</td>\n",
              "      <td>Joe Biden</td>\n",
              "      <td>9469</td>\n",
              "      <td>RT @POTUS: Making vaccines free and accessible...</td>\n",
              "      <td>2021-02-09 03:06:46.924098</td>\n",
              "      <td>2021-02-08 18:52:59</td>\n",
              "    </tr>\n",
              "    <tr>\n",
              "      <th>1</th>\n",
              "      <td>1358781635240599554</td>\n",
              "      <td>Joe Biden</td>\n",
              "      <td>11383</td>\n",
              "      <td>RT @POTUS: We don’t have a second to waste whe...</td>\n",
              "      <td>2021-02-09 03:06:46.924114</td>\n",
              "      <td>2021-02-08 14:16:01</td>\n",
              "    </tr>\n",
              "    <tr>\n",
              "      <th>2</th>\n",
              "      <td>1358538143318880258</td>\n",
              "      <td>Joe Biden</td>\n",
              "      <td>34689</td>\n",
              "      <td>RT @POTUS: For your family, for your neighbors...</td>\n",
              "      <td>2021-02-09 03:06:46.924117</td>\n",
              "      <td>2021-02-07 22:08:28</td>\n",
              "    </tr>\n",
              "    <tr>\n",
              "      <th>3</th>\n",
              "      <td>1358465618501136384</td>\n",
              "      <td>Joe Biden</td>\n",
              "      <td>16619</td>\n",
              "      <td>RT @POTUS: Everyone who wants a vaccine should...</td>\n",
              "      <td>2021-02-09 03:06:46.924119</td>\n",
              "      <td>2021-02-07 17:20:17</td>\n",
              "    </tr>\n",
              "    <tr>\n",
              "      <th>4</th>\n",
              "      <td>1358084646685319170</td>\n",
              "      <td>Joe Biden</td>\n",
              "      <td>8848</td>\n",
              "      <td>RT @POTUS: Last year, Michele lost her job bec...</td>\n",
              "      <td>2021-02-09 03:06:46.924121</td>\n",
              "      <td>2021-02-06 16:06:26</td>\n",
              "    </tr>\n",
              "  </tbody>\n",
              "</table>\n",
              "</div>"
            ],
            "text/plain": [
              "              tweet_id  ...          created_at\n",
              "0  1358851337522470914  ... 2021-02-08 18:52:59\n",
              "1  1358781635240599554  ... 2021-02-08 14:16:01\n",
              "2  1358538143318880258  ... 2021-02-07 22:08:28\n",
              "3  1358465618501136384  ... 2021-02-07 17:20:17\n",
              "4  1358084646685319170  ... 2021-02-06 16:06:26\n",
              "\n",
              "[5 rows x 6 columns]"
            ]
          },
          "metadata": {
            "tags": []
          },
          "execution_count": 7
        }
      ]
    },
    {
      "cell_type": "code",
      "metadata": {
        "colab": {
          "base_uri": "https://localhost:8080/",
          "height": 212
        },
        "id": "XM9qwgqQk8e0",
        "outputId": "7f341603-3168-49f5-aea2-98f01a03bf57"
      },
      "source": [
        "kamala_df= pd.DataFrame(kamala)\r\n",
        "print(kamala_df.shape)\r\n",
        "kamala_df.head(5)"
      ],
      "execution_count": 8,
      "outputs": [
        {
          "output_type": "stream",
          "text": [
            "(2799, 6)\n"
          ],
          "name": "stdout"
        },
        {
          "output_type": "execute_result",
          "data": {
            "text/html": [
              "<div>\n",
              "<style scoped>\n",
              "    .dataframe tbody tr th:only-of-type {\n",
              "        vertical-align: middle;\n",
              "    }\n",
              "\n",
              "    .dataframe tbody tr th {\n",
              "        vertical-align: top;\n",
              "    }\n",
              "\n",
              "    .dataframe thead th {\n",
              "        text-align: right;\n",
              "    }\n",
              "</style>\n",
              "<table border=\"1\" class=\"dataframe\">\n",
              "  <thead>\n",
              "    <tr style=\"text-align: right;\">\n",
              "      <th></th>\n",
              "      <th>tweet_id</th>\n",
              "      <th>handle</th>\n",
              "      <th>retweet_count</th>\n",
              "      <th>text</th>\n",
              "      <th>mined_at</th>\n",
              "      <th>created_at</th>\n",
              "    </tr>\n",
              "  </thead>\n",
              "  <tbody>\n",
              "    <tr>\n",
              "      <th>0</th>\n",
              "      <td>1358897168396992515</td>\n",
              "      <td>Kamala Harris</td>\n",
              "      <td>2136</td>\n",
              "      <td>RT @VP: Today @POTUS and I did a virtual tour ...</td>\n",
              "      <td>2021-02-09 03:06:53.048414</td>\n",
              "      <td>2021-02-08 21:55:06</td>\n",
              "    </tr>\n",
              "    <tr>\n",
              "      <th>1</th>\n",
              "      <td>1358851437942472704</td>\n",
              "      <td>Kamala Harris</td>\n",
              "      <td>9469</td>\n",
              "      <td>RT @POTUS: Making vaccines free and accessible...</td>\n",
              "      <td>2021-02-09 03:06:53.048431</td>\n",
              "      <td>2021-02-08 18:53:23</td>\n",
              "    </tr>\n",
              "    <tr>\n",
              "      <th>2</th>\n",
              "      <td>1358833875133284353</td>\n",
              "      <td>Kamala Harris</td>\n",
              "      <td>4028</td>\n",
              "      <td>RT @VP: The American Rescue Plan will get the ...</td>\n",
              "      <td>2021-02-09 03:06:53.048434</td>\n",
              "      <td>2021-02-08 17:43:36</td>\n",
              "    </tr>\n",
              "    <tr>\n",
              "      <th>3</th>\n",
              "      <td>1358538203096088576</td>\n",
              "      <td>Kamala Harris</td>\n",
              "      <td>34689</td>\n",
              "      <td>RT @POTUS: For your family, for your neighbors...</td>\n",
              "      <td>2021-02-09 03:06:53.048436</td>\n",
              "      <td>2021-02-07 22:08:42</td>\n",
              "    </tr>\n",
              "    <tr>\n",
              "      <th>4</th>\n",
              "      <td>1358162630217789441</td>\n",
              "      <td>Kamala Harris</td>\n",
              "      <td>8697</td>\n",
              "      <td>RT @VP: It’s been a busy few weeks. Ready for ...</td>\n",
              "      <td>2021-02-09 03:06:53.048438</td>\n",
              "      <td>2021-02-06 21:16:19</td>\n",
              "    </tr>\n",
              "  </tbody>\n",
              "</table>\n",
              "</div>"
            ],
            "text/plain": [
              "              tweet_id  ...          created_at\n",
              "0  1358897168396992515  ... 2021-02-08 21:55:06\n",
              "1  1358851437942472704  ... 2021-02-08 18:53:23\n",
              "2  1358833875133284353  ... 2021-02-08 17:43:36\n",
              "3  1358538203096088576  ... 2021-02-07 22:08:42\n",
              "4  1358162630217789441  ... 2021-02-06 21:16:19\n",
              "\n",
              "[5 rows x 6 columns]"
            ]
          },
          "metadata": {
            "tags": []
          },
          "execution_count": 8
        }
      ]
    },
    {
      "cell_type": "code",
      "metadata": {
        "colab": {
          "base_uri": "https://localhost:8080/"
        },
        "id": "XLmLItkkla00",
        "outputId": "3d999c6c-ccae-4db3-d672-e24809686372"
      },
      "source": [
        "\r\n",
        "tweets = pd.concat([biden_df, kamala_df], axis=0)\r\n",
        "tweets.shape"
      ],
      "execution_count": 9,
      "outputs": [
        {
          "output_type": "execute_result",
          "data": {
            "text/plain": [
              "(5599, 6)"
            ]
          },
          "metadata": {
            "tags": []
          },
          "execution_count": 9
        }
      ]
    },
    {
      "cell_type": "markdown",
      "metadata": {
        "id": "NCq83L8Dl5eE"
      },
      "source": [
        "# ***Pulling any interesting ngrams ***"
      ]
    },
    {
      "cell_type": "code",
      "metadata": {
        "id": "PZAePNk5mBR6"
      },
      "source": [
        "from sklearn.feature_extraction.text import TfidfVectorizer\r\n",
        "from collections import Counter"
      ],
      "execution_count": 10,
      "outputs": []
    },
    {
      "cell_type": "code",
      "metadata": {
        "id": "CxWqKHbenw00",
        "colab": {
          "base_uri": "https://localhost:8080/"
        },
        "outputId": "f6b9517e-f378-4160-d8cc-8a3cde3c273c"
      },
      "source": [
        "vect = TfidfVectorizer(ngram_range=(2,5), stop_words='english')\r\n",
        "summaries = \"\".join(biden_df['text'])\r\n",
        "ngrams_summaries = vect.build_analyzer()(summaries)\r\n",
        "Counter(ngrams_summaries).most_common(20)"
      ],
      "execution_count": 11,
      "outputs": [
        {
          "output_type": "execute_result",
          "data": {
            "text/plain": [
              "[('donald trump', 344),\n",
              " ('covid 19', 182),\n",
              " ('president trump', 128),\n",
              " ('american people', 98),\n",
              " ('health care', 89),\n",
              " ('vote https', 73),\n",
              " ('white house', 73),\n",
              " ('head https', 68),\n",
              " ('make sure', 58),\n",
              " ('build better', 56),\n",
              " ('today https', 53),\n",
              " ('president ll', 50),\n",
              " ('climate change', 49),\n",
              " ('election day', 49),\n",
              " ('need president', 48),\n",
              " ('united states', 47),\n",
              " ('president https', 47),\n",
              " ('need help', 44),\n",
              " ('ve got', 44),\n",
              " ('vote early', 38)]"
            ]
          },
          "metadata": {
            "tags": []
          },
          "execution_count": 11
        }
      ]
    },
    {
      "cell_type": "code",
      "metadata": {
        "colab": {
          "base_uri": "https://localhost:8080/"
        },
        "id": "HGn12ESUYhPB",
        "outputId": "2fdf31e6-cec1-4774-f29f-06024d34e29b"
      },
      "source": [
        "vect = TfidfVectorizer(ngram_range=(2,5), stop_words='english')\r\n",
        "summaries = \"\".join(kamala_df['text'])\r\n",
        "ngrams_summaries = vect.build_analyzer()(summaries)\r\n",
        "Counter(ngrams_summaries).most_common(20)"
      ],
      "execution_count": 12,
      "outputs": [
        {
          "output_type": "execute_result",
          "data": {
            "text/plain": [
              "[('rt joebiden', 115),\n",
              " ('donald trump', 101),\n",
              " ('health care', 74),\n",
              " ('covid 19', 73),\n",
              " ('supreme court', 68),\n",
              " ('american people', 60),\n",
              " ('united states', 51),\n",
              " ('make sure', 50),\n",
              " ('trump administration', 47),\n",
              " ('care act', 46),\n",
              " ('white house', 44),\n",
              " ('wear mask', 41),\n",
              " ('affordable care', 40),\n",
              " ('affordable care act', 40),\n",
              " ('biden harris', 37),\n",
              " ('years ago', 37),\n",
              " ('elect joebiden', 35),\n",
              " ('breonna taylor', 35),\n",
              " ('black women', 34),\n",
              " ('election day', 34)]"
            ]
          },
          "metadata": {
            "tags": []
          },
          "execution_count": 12
        }
      ]
    },
    {
      "cell_type": "markdown",
      "metadata": {
        "id": "2wP1zIF6Z-7w"
      },
      "source": [
        "### **Tweets preprocessing and developing a model**\r\n",
        "To classify which tweets corresponding to whoe, the below steps are required:\r\n",
        "\r\n",
        "1.   Vectorizing the input text\r\n",
        "2.   Initializing the model\r\n",
        "3.   Hyperparameter tuning with Grid Searching\r\n",
        "4.   Model optimization\r\n",
        "5.   Model performance evaluation\r\n",
        "\r\n"
      ]
    },
    {
      "cell_type": "code",
      "metadata": {
        "colab": {
          "base_uri": "https://localhost:8080/"
        },
        "id": "vDW87m4Ca17c",
        "outputId": "1aa30f05-033b-4d9d-ad9f-0e7d883d4505"
      },
      "source": [
        "tweet_text = tweets['text'].values.tolist()\r\n",
        "#creating target\r\n",
        "y = tweets['handle'].map(lambda x: 1 if x == 'Joe Biden' else 0).values\r\n",
        "print(y)\r\n"
      ],
      "execution_count": 13,
      "outputs": [
        {
          "output_type": "stream",
          "text": [
            "[1 1 1 ... 0 0 0]\n"
          ],
          "name": "stdout"
        }
      ]
    },
    {
      "cell_type": "code",
      "metadata": {
        "colab": {
          "base_uri": "https://localhost:8080/"
        },
        "id": "NRJjfNKlb7dW",
        "outputId": "ecc9c841-6135-40ad-af6c-fc1d17dabbe7"
      },
      "source": [
        "#Vectorizing with TF-IDF Vectorizer and creating X matrix\r\n",
        "tfv = TfidfVectorizer(ngram_range=(2,4), max_features=2000)\r\n",
        "X = tfv.fit_transform(tweet_text).todense()\r\n",
        "print (X.shape)"
      ],
      "execution_count": 14,
      "outputs": [
        {
          "output_type": "stream",
          "text": [
            "(5599, 2000)\n"
          ],
          "name": "stdout"
        }
      ]
    },
    {
      "cell_type": "markdown",
      "metadata": {
        "id": "zKqUoNuBbpUT"
      },
      "source": [
        "# **We will use only SVC model for this project**"
      ]
    },
    {
      "cell_type": "code",
      "metadata": {
        "id": "mMS2Bc9hbkt1"
      },
      "source": [
        "from sklearn import svm\r\n",
        "from sklearn.svm import SVC\r\n",
        "from sklearn.model_selection import GridSearchCV\r\n"
      ],
      "execution_count": 15,
      "outputs": []
    },
    {
      "cell_type": "code",
      "metadata": {
        "colab": {
          "base_uri": "https://localhost:8080/"
        },
        "id": "WfOPm6k2cR2G",
        "outputId": "efe4c235-6e1f-448f-9fcc-bd410244272c"
      },
      "source": [
        "params = {'kernel': ('linear', 'rbf'),'C': [1, 10]}\r\n",
        "svr = svm.SVC()\r\n",
        "#Grid searching to find optimal parameters for SVC Regression\r\n",
        "clf = GridSearchCV(svr, params)\r\n",
        "clf.fit(X, y)"
      ],
      "execution_count": 16,
      "outputs": [
        {
          "output_type": "execute_result",
          "data": {
            "text/plain": [
              "GridSearchCV(cv=None, error_score=nan,\n",
              "             estimator=SVC(C=1.0, break_ties=False, cache_size=200,\n",
              "                           class_weight=None, coef0=0.0,\n",
              "                           decision_function_shape='ovr', degree=3,\n",
              "                           gamma='scale', kernel='rbf', max_iter=-1,\n",
              "                           probability=False, random_state=None, shrinking=True,\n",
              "                           tol=0.001, verbose=False),\n",
              "             iid='deprecated', n_jobs=None,\n",
              "             param_grid={'C': [1, 10], 'kernel': ('linear', 'rbf')},\n",
              "             pre_dispatch='2*n_jobs', refit=True, return_train_score=False,\n",
              "             scoring=None, verbose=0)"
            ]
          },
          "metadata": {
            "tags": []
          },
          "execution_count": 16
        }
      ]
    },
    {
      "cell_type": "code",
      "metadata": {
        "colab": {
          "base_uri": "https://localhost:8080/"
        },
        "id": "g350h1d2ugxV",
        "outputId": "b3554e80-55c7-49fc-8baf-eb5d2a9dbab2"
      },
      "source": [
        "print (clf.best_params_)\r\n",
        "print (clf.best_score_)"
      ],
      "execution_count": 17,
      "outputs": [
        {
          "output_type": "stream",
          "text": [
            "{'C': 10, 'kernel': 'rbf'}\n",
            "0.7649567534788714\n"
          ],
          "name": "stdout"
        }
      ]
    },
    {
      "cell_type": "markdown",
      "metadata": {
        "id": "ci-3uFJz4zSx"
      },
      "source": [
        "# **The below code might take several mintues so have a good cup of coffee or snackes you like**"
      ]
    },
    {
      "cell_type": "code",
      "metadata": {
        "colab": {
          "base_uri": "https://localhost:8080/"
        },
        "id": "MVmnUjbTumoO",
        "outputId": "21108716-f4cb-4690-9155-8bc0b1653b62"
      },
      "source": [
        "from sklearn.model_selection import cross_val_score\r\n",
        "accuracies = cross_val_score(svm.SVC(probability=True), X, y)\r\n",
        "\r\n",
        "print (accuracies.mean())\r\n",
        "print (1-y.mean())"
      ],
      "execution_count": 18,
      "outputs": [
        {
          "output_type": "stream",
          "text": [
            "0.7601381973701008\n",
            "0.49991069833898916\n"
          ],
          "name": "stdout"
        }
      ]
    },
    {
      "cell_type": "markdown",
      "metadata": {
        "id": "rhyH8pNj0wHC"
      },
      "source": [
        "# **Prediciton of probability of Biden & Kamala Tweets**"
      ]
    },
    {
      "cell_type": "markdown",
      "metadata": {
        "id": "5ZQw8OSC1zKX"
      },
      "source": [
        "# **Do not re-initialize the tfidf vectorizer otherwise the features will be overwritten and the transform will not match the number of feature with your trained model. We only need to transform since we already fit it before. **"
      ]
    },
    {
      "cell_type": "code",
      "metadata": {
        "colab": {
          "base_uri": "https://localhost:8080/"
        },
        "id": "fpKwWLpu2vLs",
        "outputId": "3971bbc2-2918-4fe8-ae79-a44a633b621c"
      },
      "source": [
        "estimator = svm.SVC(C=10, kernel='linear',probability=True)\r\n",
        "estimator.fit(X,y)"
      ],
      "execution_count": 19,
      "outputs": [
        {
          "output_type": "execute_result",
          "data": {
            "text/plain": [
              "SVC(C=10, break_ties=False, cache_size=200, class_weight=None, coef0=0.0,\n",
              "    decision_function_shape='ovr', degree=3, gamma='scale', kernel='linear',\n",
              "    max_iter=-1, probability=True, random_state=None, shrinking=True, tol=0.001,\n",
              "    verbose=False)"
            ]
          },
          "metadata": {
            "tags": []
          },
          "execution_count": 19
        }
      ]
    },
    {
      "cell_type": "code",
      "metadata": {
        "id": "xq32j2HQ1FM1"
      },
      "source": [
        "# Prepare the tweets as TfIdf vectors\r\n",
        "source_test = [\r\n",
        "   \"Extending the moratorium on evictions and foreclosures to help countless Americans keep a roof over their head — that’s the American Rescue Plan.\",\r\n",
        "    \"My abiding hope—my abiding prayer—is that we emerge from this ordeal with a new wisdom to cherish simple moments to imagine new possibilities and to open our hearts just a little more to one another.\"]\r\n",
        "\r\n",
        "# I copied the these two comments from Joe Biden and Kamala Harris twitter accounts correspondingly\r\n",
        "\r\n",
        "Xtest = tfv.transform(source_test).todense()"
      ],
      "execution_count": 20,
      "outputs": []
    },
    {
      "cell_type": "code",
      "metadata": {
        "colab": {
          "base_uri": "https://localhost:8080/",
          "height": 106
        },
        "id": "sqlszZHF2TZz",
        "outputId": "98239fe4-e5b8-452a-ccd3-53770832bba0"
      },
      "source": [
        "pd.DataFrame(estimator.predict_proba(Xtest),columns=[\"Proba_Biden\", \"Proba_Kamala\"])"
      ],
      "execution_count": 21,
      "outputs": [
        {
          "output_type": "execute_result",
          "data": {
            "text/html": [
              "<div>\n",
              "<style scoped>\n",
              "    .dataframe tbody tr th:only-of-type {\n",
              "        vertical-align: middle;\n",
              "    }\n",
              "\n",
              "    .dataframe tbody tr th {\n",
              "        vertical-align: top;\n",
              "    }\n",
              "\n",
              "    .dataframe thead th {\n",
              "        text-align: right;\n",
              "    }\n",
              "</style>\n",
              "<table border=\"1\" class=\"dataframe\">\n",
              "  <thead>\n",
              "    <tr style=\"text-align: right;\">\n",
              "      <th></th>\n",
              "      <th>Proba_Biden</th>\n",
              "      <th>Proba_Kamala</th>\n",
              "    </tr>\n",
              "  </thead>\n",
              "  <tbody>\n",
              "    <tr>\n",
              "      <th>0</th>\n",
              "      <td>0.604586</td>\n",
              "      <td>0.395414</td>\n",
              "    </tr>\n",
              "    <tr>\n",
              "      <th>1</th>\n",
              "      <td>0.330000</td>\n",
              "      <td>0.670000</td>\n",
              "    </tr>\n",
              "  </tbody>\n",
              "</table>\n",
              "</div>"
            ],
            "text/plain": [
              "   Proba_Biden  Proba_Kamala\n",
              "0     0.604586      0.395414\n",
              "1     0.330000      0.670000"
            ]
          },
          "metadata": {
            "tags": []
          },
          "execution_count": 21
        }
      ]
    },
    {
      "cell_type": "markdown",
      "metadata": {
        "id": "9RS7EfIl5Afd"
      },
      "source": [
        "Based on the model the first tweet came from Biden is around 70% probable and the probability of 2nd comment coming from Kamala is 72%"
      ]
    },
    {
      "cell_type": "markdown",
      "metadata": {
        "id": "Aq5c_O2K7KfW"
      },
      "source": [
        "# **Now I am going to pull out the tweets both from Joe Biden and Kamala Harris with the highest and lowest probability of being Bien or Kamala based on the model we developed above**"
      ]
    },
    {
      "cell_type": "code",
      "metadata": {
        "id": "XD9hucPj7Xyz"
      },
      "source": [
        "proba=pd.DataFrame(estimator.predict_proba(X),columns=[\"Proba_Biden\", \"Proba_Kamala\"])"
      ],
      "execution_count": 22,
      "outputs": []
    },
    {
      "cell_type": "code",
      "metadata": {
        "colab": {
          "base_uri": "https://localhost:8080/",
          "height": 402
        },
        "id": "8D5U51eVDaU8",
        "outputId": "f99ba6b5-093a-407b-e663-9dd90f5330ba"
      },
      "source": [
        "joined_x = pd.merge(tweets, proba, left_index=True, right_index=True)\r\n",
        "joined_x"
      ],
      "execution_count": 23,
      "outputs": [
        {
          "output_type": "execute_result",
          "data": {
            "text/html": [
              "<div>\n",
              "<style scoped>\n",
              "    .dataframe tbody tr th:only-of-type {\n",
              "        vertical-align: middle;\n",
              "    }\n",
              "\n",
              "    .dataframe tbody tr th {\n",
              "        vertical-align: top;\n",
              "    }\n",
              "\n",
              "    .dataframe thead th {\n",
              "        text-align: right;\n",
              "    }\n",
              "</style>\n",
              "<table border=\"1\" class=\"dataframe\">\n",
              "  <thead>\n",
              "    <tr style=\"text-align: right;\">\n",
              "      <th></th>\n",
              "      <th>tweet_id</th>\n",
              "      <th>handle</th>\n",
              "      <th>retweet_count</th>\n",
              "      <th>text</th>\n",
              "      <th>mined_at</th>\n",
              "      <th>created_at</th>\n",
              "      <th>Proba_Biden</th>\n",
              "      <th>Proba_Kamala</th>\n",
              "    </tr>\n",
              "  </thead>\n",
              "  <tbody>\n",
              "    <tr>\n",
              "      <th>0</th>\n",
              "      <td>1358851337522470914</td>\n",
              "      <td>Joe Biden</td>\n",
              "      <td>9469</td>\n",
              "      <td>RT @POTUS: Making vaccines free and accessible...</td>\n",
              "      <td>2021-02-09 03:06:46.924098</td>\n",
              "      <td>2021-02-08 18:52:59</td>\n",
              "      <td>0.063154</td>\n",
              "      <td>0.936846</td>\n",
              "    </tr>\n",
              "    <tr>\n",
              "      <th>0</th>\n",
              "      <td>1358897168396992515</td>\n",
              "      <td>Kamala Harris</td>\n",
              "      <td>2136</td>\n",
              "      <td>RT @VP: Today @POTUS and I did a virtual tour ...</td>\n",
              "      <td>2021-02-09 03:06:53.048414</td>\n",
              "      <td>2021-02-08 21:55:06</td>\n",
              "      <td>0.063154</td>\n",
              "      <td>0.936846</td>\n",
              "    </tr>\n",
              "    <tr>\n",
              "      <th>1</th>\n",
              "      <td>1358781635240599554</td>\n",
              "      <td>Joe Biden</td>\n",
              "      <td>11383</td>\n",
              "      <td>RT @POTUS: We don’t have a second to waste whe...</td>\n",
              "      <td>2021-02-09 03:06:46.924114</td>\n",
              "      <td>2021-02-08 14:16:01</td>\n",
              "      <td>0.083131</td>\n",
              "      <td>0.916869</td>\n",
              "    </tr>\n",
              "    <tr>\n",
              "      <th>1</th>\n",
              "      <td>1358851437942472704</td>\n",
              "      <td>Kamala Harris</td>\n",
              "      <td>9469</td>\n",
              "      <td>RT @POTUS: Making vaccines free and accessible...</td>\n",
              "      <td>2021-02-09 03:06:53.048431</td>\n",
              "      <td>2021-02-08 18:53:23</td>\n",
              "      <td>0.083131</td>\n",
              "      <td>0.916869</td>\n",
              "    </tr>\n",
              "    <tr>\n",
              "      <th>2</th>\n",
              "      <td>1358538143318880258</td>\n",
              "      <td>Joe Biden</td>\n",
              "      <td>34689</td>\n",
              "      <td>RT @POTUS: For your family, for your neighbors...</td>\n",
              "      <td>2021-02-09 03:06:46.924117</td>\n",
              "      <td>2021-02-07 22:08:28</td>\n",
              "      <td>0.162862</td>\n",
              "      <td>0.837138</td>\n",
              "    </tr>\n",
              "    <tr>\n",
              "      <th>...</th>\n",
              "      <td>...</td>\n",
              "      <td>...</td>\n",
              "      <td>...</td>\n",
              "      <td>...</td>\n",
              "      <td>...</td>\n",
              "      <td>...</td>\n",
              "      <td>...</td>\n",
              "      <td>...</td>\n",
              "    </tr>\n",
              "    <tr>\n",
              "      <th>2797</th>\n",
              "      <td>1247676278938853376</td>\n",
              "      <td>Joe Biden</td>\n",
              "      <td>1722</td>\n",
              "      <td>Folks, I know these are tough times, but this ...</td>\n",
              "      <td>2021-02-09 03:06:52.585180</td>\n",
              "      <td>2020-04-08 00:03:00</td>\n",
              "      <td>0.166291</td>\n",
              "      <td>0.833709</td>\n",
              "    </tr>\n",
              "    <tr>\n",
              "      <th>2797</th>\n",
              "      <td>1218349035666509824</td>\n",
              "      <td>Kamala Harris</td>\n",
              "      <td>3884</td>\n",
              "      <td>The responsibility to uphold the Constitution ...</td>\n",
              "      <td>2021-02-09 03:06:58.999639</td>\n",
              "      <td>2020-01-18 01:47:00</td>\n",
              "      <td>0.166291</td>\n",
              "      <td>0.833709</td>\n",
              "    </tr>\n",
              "    <tr>\n",
              "      <th>2798</th>\n",
              "      <td>1247659115683479555</td>\n",
              "      <td>Joe Biden</td>\n",
              "      <td>81</td>\n",
              "      <td>@blackenterprise Jill and I send our heartfelt...</td>\n",
              "      <td>2021-02-09 03:06:52.585182</td>\n",
              "      <td>2020-04-07 22:54:48</td>\n",
              "      <td>0.295245</td>\n",
              "      <td>0.704755</td>\n",
              "    </tr>\n",
              "    <tr>\n",
              "      <th>2798</th>\n",
              "      <td>1218294931686555648</td>\n",
              "      <td>Kamala Harris</td>\n",
              "      <td>6420</td>\n",
              "      <td>It would be wholly inappropriate for the Senat...</td>\n",
              "      <td>2021-02-09 03:06:58.999641</td>\n",
              "      <td>2020-01-17 22:12:01</td>\n",
              "      <td>0.295245</td>\n",
              "      <td>0.704755</td>\n",
              "    </tr>\n",
              "    <tr>\n",
              "      <th>2799</th>\n",
              "      <td>1247654894187790337</td>\n",
              "      <td>Joe Biden</td>\n",
              "      <td>2965</td>\n",
              "      <td>On #WorldHealthDay, we thank the tireless heal...</td>\n",
              "      <td>2021-02-09 03:06:52.585184</td>\n",
              "      <td>2020-04-07 22:38:01</td>\n",
              "      <td>0.781704</td>\n",
              "      <td>0.218296</td>\n",
              "    </tr>\n",
              "  </tbody>\n",
              "</table>\n",
              "<p>5599 rows × 8 columns</p>\n",
              "</div>"
            ],
            "text/plain": [
              "                 tweet_id         handle  ...  Proba_Biden Proba_Kamala\n",
              "0     1358851337522470914      Joe Biden  ...     0.063154     0.936846\n",
              "0     1358897168396992515  Kamala Harris  ...     0.063154     0.936846\n",
              "1     1358781635240599554      Joe Biden  ...     0.083131     0.916869\n",
              "1     1358851437942472704  Kamala Harris  ...     0.083131     0.916869\n",
              "2     1358538143318880258      Joe Biden  ...     0.162862     0.837138\n",
              "...                   ...            ...  ...          ...          ...\n",
              "2797  1247676278938853376      Joe Biden  ...     0.166291     0.833709\n",
              "2797  1218349035666509824  Kamala Harris  ...     0.166291     0.833709\n",
              "2798  1247659115683479555      Joe Biden  ...     0.295245     0.704755\n",
              "2798  1218294931686555648  Kamala Harris  ...     0.295245     0.704755\n",
              "2799  1247654894187790337      Joe Biden  ...     0.781704     0.218296\n",
              "\n",
              "[5599 rows x 8 columns]"
            ]
          },
          "metadata": {
            "tags": []
          },
          "execution_count": 23
        }
      ]
    },
    {
      "cell_type": "code",
      "metadata": {
        "colab": {
          "base_uri": "https://localhost:8080/"
        },
        "id": "LfeEB5H-vU8b",
        "outputId": "73120e75-f82d-4a32-c325-9469d918a3d7"
      },
      "source": [
        "joined_Biden = joined_x[joined_x['handle']==\"Joe Biden\"]\r\n",
        "for el in joined_Biden[joined_Biden['Proba_Biden']==max(joined_Biden['Proba_Biden'])]['text']:\r\n",
        "    print (el)"
      ],
      "execution_count": 29,
      "outputs": [
        {
          "output_type": "stream",
          "text": [
            "Supreme Court decisions affect our everyday lives, and the Constitution was designed to give voters a voice on who makes those decisions.\n",
            "\n",
            "The Senate shouldn't act until after the American people select their next president and the next Congress.\n",
            "\n",
            "Americans deserve to be heard.\n"
          ],
          "name": "stdout"
        }
      ]
    },
    {
      "cell_type": "code",
      "metadata": {
        "colab": {
          "base_uri": "https://localhost:8080/"
        },
        "id": "Fdx-xJMvE6fM",
        "outputId": "03525408-60b0-4cd9-cfd7-61c5d49bb291"
      },
      "source": [
        "for el in joined_Biden[joined_Biden['Proba_Biden']==min(joined_Biden['Proba_Biden'])]['text']:\r\n",
        "    print (el)"
      ],
      "execution_count": 30,
      "outputs": [
        {
          "output_type": "stream",
          "text": [
            "RT @KamalaHarris: Donald Trump paid $750 in taxes. When I first heard about it, I literally said, “You mean $750,000?”\n"
          ],
          "name": "stdout"
        }
      ]
    },
    {
      "cell_type": "code",
      "metadata": {
        "colab": {
          "base_uri": "https://localhost:8080/"
        },
        "id": "gBhNZEmfGngE",
        "outputId": "a5f512f9-9322-44ae-ddaf-6571df4f1355"
      },
      "source": [
        "joined_Kamala = joined_x[joined_x['handle']==\"Kamala Harris\"]\r\n",
        "for el in joined_Kamala[joined_Kamala['Proba_Kamala']==max(joined_Kamala['Proba_Kamala'])]['text']:\r\n",
        "    print (el)"
      ],
      "execution_count": 32,
      "outputs": [
        {
          "output_type": "stream",
          "text": [
            "Donald Trump knew coronavirus was deadly, yet he still brought thousands of people together for his rallies—and wasn’t concerned about whether they were wearing masks or socially distanced. https://t.co/Wilg6O1bnq\n"
          ],
          "name": "stdout"
        }
      ]
    },
    {
      "cell_type": "code",
      "metadata": {
        "colab": {
          "base_uri": "https://localhost:8080/"
        },
        "id": "eQM0l0eoIozi",
        "outputId": "80c65098-de7d-4609-9561-c2f9d6419225"
      },
      "source": [
        "for el in joined_Kamala[joined_Kamala['Proba_Kamala']==min(joined_Kamala['Proba_Kamala'])]['text']:\r\n",
        "    print (el)"
      ],
      "execution_count": 33,
      "outputs": [
        {
          "output_type": "stream",
          "text": [
            "RT @JoeBiden: When President Trump took office, he inherited a growing economy from the Obama-Biden administration. And just like everythin…\n"
          ],
          "name": "stdout"
        }
      ]
    }
  ]
}